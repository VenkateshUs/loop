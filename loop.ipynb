{
 "cells": [
  {
   "cell_type": "code",
   "execution_count": 6,
   "id": "177ccc1e-25ed-43de-8032-f6688438fffd",
   "metadata": {},
   "outputs": [
    {
     "name": "stdout",
     "output_type": "stream",
     "text": [
      "1\n",
      "2\n",
      "3\n",
      "4\n",
      "5\n",
      "6\n",
      "7\n",
      "8\n",
      "9\n",
      "10\n"
     ]
    }
   ],
   "source": [
    "#1. Write a Python program to print the numbers from 1 to 10 using a `for` loop.\n",
    "for i in range(1,11):\n",
    "    print(i)"
   ]
  },
  {
   "cell_type": "code",
   "execution_count": 8,
   "id": "61f201b2-4712-475c-87fb-243113d84ad2",
   "metadata": {},
   "outputs": [
    {
     "name": "stdout",
     "output_type": "stream",
     "text": [
      "1\n",
      "3\n",
      "6\n",
      "10\n"
     ]
    }
   ],
   "source": [
    "#2. Create a program that calculates the sum of all numbers in a list using a `for` loop.\n",
    "list1 =[1,2,3,4]\n",
    "sum =0\n",
    "for i in list1:\n",
    "    sum = sum +i\n",
    "    print(sum)   "
   ]
  },
  {
   "cell_type": "code",
   "execution_count": 5,
   "id": "5f6d4dc2-5118-4843-b517-363724cf28f4",
   "metadata": {},
   "outputs": [
    {
     "name": "stdout",
     "output_type": "stream",
     "text": [
      "evoL\n"
     ]
    }
   ],
   "source": [
    "#3. Write a program to print the characters of a string in reverse order using a `for` loop.\n",
    "try:\n",
    "    def reverse_string(string):\n",
    "        reverse_string1 = \"\"\n",
    "        for ele in reversed(string):\n",
    "            reverse_string1= reverse_string1 + ele\n",
    "        return reverse_string1\n",
    "            \n",
    "except Exception as e:\n",
    "    print(e)\n",
    "\n",
    "print(reverse_string(\"Love\"))"
   ]
  },
  {
   "cell_type": "code",
   "execution_count": 9,
   "id": "08b99ec4-9b13-45b6-88de-a8aa6f4984bb",
   "metadata": {},
   "outputs": [],
   "source": [
    "#4. Develop a program that finds the factorial of a given number using a `for` loop.\n",
    "try:\n",
    "    def fact_number(n):\n",
    "        if n < 0:\n",
    "            print(\"Entered n value is negative\")\n",
    "        fact_num = 1\n",
    "        for i in range(1,n+1):\n",
    "            fact_num*= i\n",
    "        return fact_num\n",
    "except Exception as e:\n",
    "    print(e)    "
   ]
  },
  {
   "cell_type": "code",
   "execution_count": 10,
   "id": "1a92e8b4-94d4-4a76-9c18-385d3e641922",
   "metadata": {},
   "outputs": [
    {
     "data": {
      "text/plain": [
       "720"
      ]
     },
     "execution_count": 10,
     "metadata": {},
     "output_type": "execute_result"
    }
   ],
   "source": [
    "fact_number(6)"
   ]
  },
  {
   "cell_type": "code",
   "execution_count": null,
   "id": "6af1bb01-96c6-4b3e-9238-8521ba307097",
   "metadata": {},
   "outputs": [
    {
     "name": "stdout",
     "output_type": "stream",
     "text": [
      "3 * 1 = 3\n",
      "3 * 2 = 6\n",
      "3 * 3 = 9\n",
      "3 * 4 = 12\n",
      "3 * 5 = 15\n",
      "3 * 6 = 18\n",
      "3 * 7 = 21\n",
      "3 * 8 = 24\n",
      "3 * 9 = 27\n",
      "3 * 10 = 30\n"
     ]
    }
   ],
   "source": [
    "#5. Create a program to print the multiplication table of a given number using a `for` loop.\n",
    "for i in range(1,11):\n",
    "    x = 3 *i\n",
    "    print(\"3 *\", i, \"=\", x)\n",
    "    "
   ]
  },
  {
   "cell_type": "code",
   "execution_count": 23,
   "id": "016c2868-3d27-4d35-bc18-c28c436b6be1",
   "metadata": {},
   "outputs": [
    {
     "name": "stdout",
     "output_type": "stream",
     "text": [
      "(3, 2)\n"
     ]
    }
   ],
   "source": [
    "#6. Write a program that counts the number of even and odd numbers in a list using a `for` loop.\n",
    "try:\n",
    "    def count__even_odd(n):\n",
    "        count_even =0\n",
    "        count_odd = 0\n",
    "        for i in n:\n",
    "            if i%2 == 0:\n",
    "                count_even +=1\n",
    "            else:\n",
    "                count_odd+=1\n",
    "            \n",
    "        return count_even,count_odd\n",
    "except Exception as e:\n",
    "    print(e)\n",
    "\n",
    "\n",
    "print(count__even_odd([53,45,56,24,32]))"
   ]
  },
  {
   "cell_type": "code",
   "execution_count": 26,
   "id": "d56ccf0a-1eae-4f01-acf4-f23f8c35b098",
   "metadata": {},
   "outputs": [
    {
     "name": "stdout",
     "output_type": "stream",
     "text": [
      "169\n"
     ]
    }
   ],
   "source": [
    "#7. Develop a program that prints the squares of numbers from 1 to 5 using a `for` loop.\n",
    "try:\n",
    "    def squares(n):\n",
    "        for i in range(1,n+1):\n",
    "            i = i**2\n",
    "        return i\n",
    "except Exception as e:\n",
    "    print(e)\n",
    "\n",
    "print(squares(13))"
   ]
  },
  {
   "cell_type": "code",
   "execution_count": 27,
   "id": "51c37fc4-1481-40be-b721-a9749f15e0e7",
   "metadata": {},
   "outputs": [
    {
     "name": "stdin",
     "output_type": "stream",
     "text": [
      "Enter the string Usha\n"
     ]
    },
    {
     "name": "stdout",
     "output_type": "stream",
     "text": [
      "4\n"
     ]
    }
   ],
   "source": [
    "#8. Create a program to find the length of a string without using the `len()` function.\n",
    "string1 =input(\"Enter the string\")\n",
    "count =0\n",
    "for i in string1:\n",
    "    count += 1\n",
    "print(count)"
   ]
  },
  {
   "cell_type": "code",
   "execution_count": 29,
   "id": "e9308188-b5a9-4bbb-88ff-84764e91bd04",
   "metadata": {},
   "outputs": [
    {
     "name": "stdout",
     "output_type": "stream",
     "text": [
      "65\n"
     ]
    }
   ],
   "source": [
    "#9. Write a program that calculates the average of a list of numbers using a `for` loop.\n",
    "try:\n",
    "    def average_num(n):\n",
    "        sum = 0\n",
    "        for i in n:\n",
    "            sum = sum + i\n",
    "            avg = int(sum//len(n))\n",
    "        return avg\n",
    "except Exception as e:\n",
    "    print(e)\n",
    "\n",
    "n =[45,45,65,76,98]\n",
    "print(average_num(n))"
   ]
  },
  {
   "cell_type": "code",
   "execution_count": 15,
   "id": "447eee46-618c-4eb7-9e1f-a430dcd26aa1",
   "metadata": {},
   "outputs": [
    {
     "name": "stdout",
     "output_type": "stream",
     "text": [
      "[0, 1, 1, 2, 3, 5, 8, 13, 21, 34]\n"
     ]
    }
   ],
   "source": [
    "#10. Develop a program that prints the first `n` Fibonacci numbers using a `for` loop.\n",
    "try:\n",
    "    def generate_fibonacci(n):\n",
    "        fibonacci_sequence = [0, 1]\n",
    "\n",
    "        for i in range(2, n):\n",
    "            next_fibonacci = fibonacci_sequence[i-1] + fibonacci_sequence[i-2]\n",
    "            fibonacci_sequence.append(next_fibonacci)\n",
    "\n",
    "        return fibonacci_sequence\n",
    "    \n",
    "except Exception as e:\n",
    "    print(e)\n",
    "    \n",
    "    \n",
    "print(generate_fibonacci(10))"
   ]
  },
  {
   "cell_type": "code",
   "execution_count": 40,
   "id": "796dd8e4-9673-4e26-bbce-c86d166339d5",
   "metadata": {},
   "outputs": [
    {
     "name": "stdout",
     "output_type": "stream",
     "text": [
      "True\n"
     ]
    }
   ],
   "source": [
    "#11. Write a program to check if a given list contains any duplicates using a `for` loop.\n",
    "\n",
    "try:\n",
    "    def check_duplicate(list1):\n",
    "        checked_elements = set()\n",
    "        \n",
    "        for i in list1:\n",
    "            if i  in checked_elements:\n",
    "                return True\n",
    "            checked_elements.add(i)\n",
    "        return False\n",
    "except Exception as e:\n",
    "    print(e)\n",
    "\n",
    "print(check_duplicate([1,2,3,53,4,53,43]))\n"
   ]
  },
  {
   "cell_type": "code",
   "execution_count": 9,
   "id": "01b6d09c-76f7-4ec5-b56e-ba25fa0f5ddf",
   "metadata": {},
   "outputs": [
    {
     "name": "stdout",
     "output_type": "stream",
     "text": [
      "11 13 17 19 23 29 "
     ]
    }
   ],
   "source": [
    "#12. Create a program that prints the prime numbers in a given range using a `for` loop.\n",
    "def is_print(number):\n",
    "    if number <2:\n",
    "        return False\n",
    "    for i in range(2,int(number**0.5)+1):\n",
    "        if number%i == 0:\n",
    "            return False\n",
    "    return True\n",
    "def print_primes_inrange(start,end):\n",
    "    for num in range(start,end+1):\n",
    "        if is_prime(num):\n",
    "            print(num,end=\" \")\n",
    "            \n",
    "            \n",
    "print_primes_inrange(10,30)"
   ]
  },
  {
   "cell_type": "code",
   "execution_count": 10,
   "id": "781e6e88-7687-4cb9-b1d9-aaaa18c262ef",
   "metadata": {},
   "outputs": [
    {
     "name": "stdout",
     "output_type": "stream",
     "text": [
      "9\n"
     ]
    }
   ],
   "source": [
    "#13. Develop a program that counts the number of vowels in a string using a `for` loop.\n",
    "try:\n",
    "    def count_vowels(string):\n",
    "        string = string.lower()\n",
    "        vowels = \"aeiou\"\n",
    "        count_vowel =0\n",
    "        for i in string:\n",
    "            if  i in vowels:\n",
    "                count_vowel +=1\n",
    "        return count_vowel\n",
    "except Exception as e:\n",
    "    print(e)\n",
    "\n",
    "print(count_vowels(\"total companies of tata\"))"
   ]
  },
  {
   "cell_type": "code",
   "execution_count": 9,
   "id": "6c21f6bc-81ff-43e2-8597-d69a08b32e6d",
   "metadata": {},
   "outputs": [
    {
     "name": "stdout",
     "output_type": "stream",
     "text": [
      "58\n"
     ]
    }
   ],
   "source": [
    "#14. Write a program to find the maximum element in a 2D list using a nested `for` loop.\n",
    "\n",
    "try:\n",
    "    def max_ele(matrix):\n",
    "        lst = []\n",
    "        for row in matrix:\n",
    "            for ele in row:\n",
    "                lst.append(ele)\n",
    "                l = max(lst)\n",
    "        return l\n",
    "except Exception as e:\n",
    "    print(e)\n",
    "                        \n",
    "print(max_ele([[1, 2, 3, 4],[5, 6, 7, 8], [9, 13, 11, 12],[58,38,45]]))"
   ]
  },
  {
   "cell_type": "code",
   "execution_count": 18,
   "id": "06591932-9878-4bb6-9211-37ea319688d9",
   "metadata": {},
   "outputs": [
    {
     "name": "stdout",
     "output_type": "stream",
     "text": [
      "[1, 2, 4, 5, 3, 4]\n"
     ]
    }
   ],
   "source": [
    "#15. Create a program that removes all occurrences of a specific element from a list using a `for` loop.\n",
    "try:\n",
    "    def remove_ele(lst,s):\n",
    "        for i in lst:\n",
    "            if  i ==s :\n",
    "                lst.remove(i)\n",
    "        return lst\n",
    "except Exception as e:\n",
    "    print(e)\n",
    "\n",
    "print(remove_ele([1,2,35,4,5,3,4,35],35))"
   ]
  },
  {
   "cell_type": "code",
   "execution_count": 34,
   "id": "d669bead-271f-418f-befd-9d997ee80add",
   "metadata": {},
   "outputs": [
    {
     "name": "stdout",
     "output_type": "stream",
     "text": [
      "Multiplication table for  1\n",
      "1 x 1 = 1\n",
      "1 x 2 = 2\n",
      "1 x 3 = 3\n",
      "1 x 4 = 4\n",
      "1 x 5 = 5\n",
      "1 x 6 = 6\n",
      "1 x 7 = 7\n",
      "1 x 8 = 8\n",
      "1 x 9 = 9\n",
      "1 x 10 = 10\n",
      "\n",
      "Multiplication table for  2\n",
      "2 x 1 = 2\n",
      "2 x 2 = 4\n",
      "2 x 3 = 6\n",
      "2 x 4 = 8\n",
      "2 x 5 = 10\n",
      "2 x 6 = 12\n",
      "2 x 7 = 14\n",
      "2 x 8 = 16\n",
      "2 x 9 = 18\n",
      "2 x 10 = 20\n",
      "\n",
      "Multiplication table for  3\n",
      "3 x 1 = 3\n",
      "3 x 2 = 6\n",
      "3 x 3 = 9\n",
      "3 x 4 = 12\n",
      "3 x 5 = 15\n",
      "3 x 6 = 18\n",
      "3 x 7 = 21\n",
      "3 x 8 = 24\n",
      "3 x 9 = 27\n",
      "3 x 10 = 30\n",
      "\n",
      "Multiplication table for  4\n",
      "4 x 1 = 4\n",
      "4 x 2 = 8\n",
      "4 x 3 = 12\n",
      "4 x 4 = 16\n",
      "4 x 5 = 20\n",
      "4 x 6 = 24\n",
      "4 x 7 = 28\n",
      "4 x 8 = 32\n",
      "4 x 9 = 36\n",
      "4 x 10 = 40\n",
      "\n",
      "Multiplication table for  5\n",
      "5 x 1 = 5\n",
      "5 x 2 = 10\n",
      "5 x 3 = 15\n",
      "5 x 4 = 20\n",
      "5 x 5 = 25\n",
      "5 x 6 = 30\n",
      "5 x 7 = 35\n",
      "5 x 8 = 40\n",
      "5 x 9 = 45\n",
      "5 x 10 = 50\n",
      "\n"
     ]
    }
   ],
   "source": [
    "#16. Develop a program that generates a multiplication table for numbers from 1 to 5 using a nested `for` loop.\n",
    "try:\n",
    "    def generate_multiplication_table():\n",
    "        for i in range(1,6):\n",
    "            print(f\"Multiplication table for  {i}\")\n",
    "            for j in range(1,11):\n",
    "                result = i * j\n",
    "                print(f\"{i} x {j} = {result}\")\n",
    "            print()\n",
    "               \n",
    "            \n",
    "except Exception as e:\n",
    "    print(e)\n",
    "generate_multiplication_table()"
   ]
  },
  {
   "cell_type": "code",
   "execution_count": 37,
   "id": "2c02f6bc-b9a8-4f83-a84e-1f04a0738f64",
   "metadata": {},
   "outputs": [
    {
     "data": {
      "text/plain": [
       "[0.0, 20.0, 37.77777777777778, 100.0]"
      ]
     },
     "execution_count": 37,
     "metadata": {},
     "output_type": "execute_result"
    }
   ],
   "source": [
    "#17. Write a program that converts a list of Fahrenheit temperatures to Celsius using a `for` loop.\n",
    "try:\n",
    "    def Fahrenheit_to_Celsius(F):\n",
    "        return  (F-32) *5/9\n",
    "    \n",
    "    \n",
    "    def convert_temperatures(fahrenheit_list):\n",
    "        celsius_list = []\n",
    "        for F in fahrenheit_list:\n",
    "            celsius = Fahrenheit_to_Celsius(F)\n",
    "            celsius_list.append(celsius)\n",
    "        return celsius_list\n",
    "except Exception as e:\n",
    "    print(e)\n",
    "    \n",
    "\n",
    "fahrenheit_list = [32, 68, 100, 212]\n",
    "convert_temperatures(fahrenheit_list)\n",
    "        "
   ]
  },
  {
   "cell_type": "code",
   "execution_count": 5,
   "id": "63ea7276-c57e-4f1f-bfbd-c7d27f549aeb",
   "metadata": {},
   "outputs": [
    {
     "name": "stdout",
     "output_type": "stream",
     "text": [
      "[6, 8]\n"
     ]
    }
   ],
   "source": [
    "#18.Create a program to print the common elements from two lists using a `for` loop.\n",
    "try:\n",
    "    def common_ele(lst, lst1):\n",
    "        lst2 = []\n",
    "        for ele in lst:\n",
    "            if ele in lst1:\n",
    "                lst2.append(ele)\n",
    "        return lst2\n",
    "except Exception as e:\n",
    "    print(e)\n",
    "lst =[1,2,3,4,5,6,8]\n",
    "lst1 =[7,8,9,10,6,8]\n",
    "print(common_ele(lst, lst1))"
   ]
  },
  {
   "cell_type": "code",
   "execution_count": 24,
   "id": "fc636d29-65c3-45f8-a877-13d23f2e809f",
   "metadata": {},
   "outputs": [
    {
     "name": "stdout",
     "output_type": "stream",
     "text": [
      "*\n",
      "**\n",
      "***\n",
      "****\n",
      "*****\n",
      "******\n",
      "*******\n",
      "********\n",
      "*********\n",
      "**********\n"
     ]
    }
   ],
   "source": [
    "#19. Develop a program that prints the pattern of right-angled triangles using a `for` loop. Use ‘*’ to draw the pattern\n",
    "height =10\n",
    "for i in range(1,height+1):\n",
    "    for j in range(i):\n",
    "        print('*',end=\"\")\n",
    "    print()\n",
    "        "
   ]
  },
  {
   "cell_type": "code",
   "execution_count": 26,
   "id": "51b7011f-178b-4bd8-a27f-b913363045ca",
   "metadata": {},
   "outputs": [
    {
     "name": "stdout",
     "output_type": "stream",
     "text": [
      "2\n"
     ]
    }
   ],
   "source": [
    "#20. Write a program to find the greatest common divisor (GCD) of two numbers using a `for` loop.\n",
    "def gcd(a,b):\n",
    "    gcd =1\n",
    "    for i in range(1, min(a,b)+1):\n",
    "        if a%i ==0 and b%i ==0:\n",
    "            gcd =i\n",
    "    return gcd\n",
    "\n",
    "a= 256\n",
    "b=1026\n",
    "print(gcd(a,b))\n"
   ]
  },
  {
   "cell_type": "code",
   "execution_count": 20,
   "id": "ce5e5c0f-8b80-4a97-b03c-a89ca1e368ad",
   "metadata": {},
   "outputs": [
    {
     "data": {
      "text/plain": [
       "2132"
      ]
     },
     "execution_count": 20,
     "metadata": {},
     "output_type": "execute_result"
    }
   ],
   "source": [
    "# 21.Create a program that calculates the sum of the digits of numbers in a list using a list comprehension.\n",
    "lst = [123,456,457,1096]\n",
    "s = sum(int(i) for i in lst)\n",
    "s"
   ]
  },
  {
   "cell_type": "code",
   "execution_count": 17,
   "id": "760407c9-5047-487e-9501-95a4808f6460",
   "metadata": {},
   "outputs": [
    {
     "name": "stdin",
     "output_type": "stream",
     "text": [
      "Enter a number:  35\n"
     ]
    },
    {
     "name": "stdout",
     "output_type": "stream",
     "text": [
      "[5, 7]\n"
     ]
    }
   ],
   "source": [
    "#22. Write a program to find the prime factors of a given number using a `for` loop and list comprehension.\n",
    "#Using for loop:\n",
    "try:\n",
    "    def is_prime_factors(n):\n",
    "        factors =[]\n",
    "        while n%2 == 0:\n",
    "            factors.append(2)\n",
    "            n//= 2\n",
    "        for i in range(3,int(n**0.5)+1,2):\n",
    "            while n% i ==0 :\n",
    "                factors.append(i)\n",
    "                n//=i\n",
    "        if n>2:\n",
    "            factors.append(n)\n",
    "        return factors\n",
    "except Exception as e:\n",
    "    print(e)\n",
    "\n",
    "    \n",
    "number = int(input(\"Enter a number: \"))\n",
    "print(is_prime_factors(number))"
   ]
  },
  {
   "cell_type": "code",
   "execution_count": 20,
   "id": "c51c79a2-87f1-456a-8f49-8c29cbc8b7a4",
   "metadata": {},
   "outputs": [
    {
     "name": "stdout",
     "output_type": "stream",
     "text": [
      "3 5 7 3\n"
     ]
    }
   ],
   "source": [
    "#Using list comprehension\n",
    "prime_factors = lambda n: [i for i in range(2,n+1) if n%i==0 and all(i%j !=0 for j in range(2,int(i**0.5)+1))]\n",
    "n =315\n",
    "factors=[]\n",
    "while n>1:\n",
    "    for factor in prime_factors(n):\n",
    "        factors.append(factor)\n",
    "        n//= factor\n",
    "print(*factors)"
   ]
  },
  {
   "cell_type": "code",
   "execution_count": 4,
   "id": "fc25acb6-f163-4152-8188-7f478233d7df",
   "metadata": {},
   "outputs": [
    {
     "data": {
      "text/plain": [
       "[1, 2, 3, 4, 5, 6, 7, 8]"
      ]
     },
     "execution_count": 4,
     "metadata": {},
     "output_type": "execute_result"
    }
   ],
   "source": [
    "#23 Develop a program that extracts unique elements from a list and stores them in a new list using a list comprehension.\n",
    "lst =[1,2,3,4,5,5,6,7,8,7,8]\n",
    "lst1 =[]\n",
    "x=[lst1.append(i) for i in lst if i  not in lst1] \n",
    "lst1"
   ]
  },
  {
   "cell_type": "code",
   "execution_count": 24,
   "id": "315f2e95-becf-49a4-993e-f2667fa9a1e0",
   "metadata": {},
   "outputs": [
    {
     "name": "stdin",
     "output_type": "stream",
     "text": [
      "Enter the limit:  112\n"
     ]
    },
    {
     "name": "stdout",
     "output_type": "stream",
     "text": [
      "Palindromic numbers up to 112 are: [1, 2, 3, 4, 5, 6, 7, 8, 9, 11, 22, 33, 44, 55, 66, 77, 88, 99, 101, 111]\n"
     ]
    }
   ],
   "source": [
    "#24. Create a program that generates a list of all palindromic numbers up to a specified limit using a list comprehension.\n",
    "try:\n",
    "    def is_palindromic(num):\n",
    "        return str(num) ==str(num)[::-1]\n",
    "    \n",
    "    def palindromic_numbers(limit):\n",
    "        return [num for num in range(1,limit+1) if is_palindromic(num)]\n",
    "except Exception as e:\n",
    "    print(e)\n",
    "    \n",
    "limit=int(input(\"Enter the limit: \"))\n",
    "print(\"Palindromic numbers up to\", limit, \"are:\", palindromic_numbers(limit))"
   ]
  },
  {
   "cell_type": "code",
   "execution_count": 21,
   "id": "11640377-14da-4a23-a3d2-99bc03010e08",
   "metadata": {},
   "outputs": [
    {
     "data": {
      "text/plain": [
       "[1, 2, 3, 2, 3, 4, 89, 98, 10]"
      ]
     },
     "execution_count": 21,
     "metadata": {},
     "output_type": "execute_result"
    }
   ],
   "source": [
    "#25 Write a program to flatten a nested list using list comprehension.\n",
    "lst =[[1,2,3],[2,3,4],[89,98,10]]\n",
    "lst1 = [item for ele in lst for item in ele]\n",
    "lst1"
   ]
  },
  {
   "cell_type": "code",
   "execution_count": 43,
   "id": "c2132080-daf2-4e1f-9ee0-14faa6840ec7",
   "metadata": {},
   "outputs": [
    {
     "name": "stdout",
     "output_type": "stream",
     "text": [
      "30\n",
      "36\n"
     ]
    }
   ],
   "source": [
    "#26. Develop a program that computes the sum of even and odd numbers in a list separately using list comprehension.\n",
    "lst =[1,2,3,4,5,6,7,8,9,10,11]\n",
    "sum_even= sum(int(i) for i in lst if i%2==0)\n",
    "sum_odd = sum(int(i) for i in lst if i%2!=0)\n",
    "print(sum_even)\n",
    "print(sum_odd)"
   ]
  },
  {
   "cell_type": "code",
   "execution_count": 4,
   "id": "64365d01-8d02-4e61-9a9b-7113c8a6f6db",
   "metadata": {},
   "outputs": [
    {
     "data": {
      "text/plain": [
       "[1, 9, 25, 49, 81]"
      ]
     },
     "execution_count": 4,
     "metadata": {},
     "output_type": "execute_result"
    }
   ],
   "source": [
    "#27. Create a program that generates a list of squares of odd numbers between 1 and 10 using list comprehension.\n",
    "lst = [i*i for i in range(1,11) if i%2!=0]\n",
    "lst"
   ]
  },
  {
   "cell_type": "code",
   "execution_count": 28,
   "id": "bb8c09f2-4f7e-40fc-9f77-f617b612541e",
   "metadata": {},
   "outputs": [
    {
     "data": {
      "text/plain": [
       "{'a': 12, 'bc': 13, 'd': 1}"
      ]
     },
     "execution_count": 28,
     "metadata": {},
     "output_type": "execute_result"
    }
   ],
   "source": [
    "#28. Write a program that combines two lists into a dictionary using list comprehension.\n",
    "keys = ['a','bc','d']\n",
    "values = [12,13,1,4]\n",
    "\n",
    "list_to_dictionary = {keys[i]:values[i] for i in range(min(len(keys),len(values)))}\n",
    "\n",
    "list_to_dictionary\n"
   ]
  },
  {
   "cell_type": "code",
   "execution_count": 9,
   "id": "21672376-c028-4c08-b644-0708883a7cbd",
   "metadata": {},
   "outputs": [
    {
     "data": {
      "text/plain": [
       "['e', 'o', 'e', 'o', 'e', 'i', 'a', 'a', 'o', 'i']"
      ]
     },
     "execution_count": 9,
     "metadata": {},
     "output_type": "execute_result"
    }
   ],
   "source": [
    "#29. Develop a program that extracts the vowels from a string and stores them in a list using list comprehension\n",
    "try:\n",
    "    def is_vowel(char):\n",
    "        vowels =\"aeiouAEIOU\"\n",
    "        return char in vowels\n",
    "    string = \"Welcome, to the pw skills Lab, happy coding!\"\n",
    "    vowel_list = [char for char in string if is_vowel(char)]\n",
    "except Exception as e:\n",
    "    print(e)\n",
    "\n",
    "vowel_list"
   ]
  },
  {
   "cell_type": "code",
   "execution_count": 6,
   "id": "1a3b02dc-25e5-420f-ba2b-d08ce8e6fa07",
   "metadata": {},
   "outputs": [
    {
     "data": {
      "text/plain": [
       "['1 2 3', '1', '2', '3', '4 5 6']"
      ]
     },
     "execution_count": 6,
     "metadata": {},
     "output_type": "execute_result"
    }
   ],
   "source": [
    "#30. Create a program that removes all non-numeric characters from a list of strings using list comprehension.\n",
    "stringList = ['venkatesh123','1','2','3',\"ravi456\"]\n",
    "def remove_non_numeric(string):\n",
    "    return \" \".join(char for char in string if char.isdigit())\n",
    "\n",
    "numeric_list_only = [remove_non_numeric(string) for string in stringList]\n",
    "\n",
    "numeric_list_only\n"
   ]
  },
  {
   "cell_type": "code",
   "execution_count": 81,
   "id": "cb622858-2829-4363-9e61-76561ba5418c",
   "metadata": {},
   "outputs": [
    {
     "name": "stdin",
     "output_type": "stream",
     "text": [
      "Enter the limit:  5\n"
     ]
    },
    {
     "name": "stdout",
     "output_type": "stream",
     "text": [
      "Prime numbers up to 5 are: [2, 3, 5]\n"
     ]
    }
   ],
   "source": [
    "#31. Write a program to generate a list of prime numbers using the Sieve of Eratosthenes algorithm and list comprehension.\n",
    "def sieve_of_eratosthenes(limit):\n",
    "    primes = [True] * (limit + 1)\n",
    "    primes[0] = primes[1] = False\n",
    "    for num in range(2, int(limit**0.5) + 1):\n",
    "        if primes[num]:\n",
    "            primes[num*num : limit+1 : num] = [False] * len(primes[num*num : limit+1 : num])\n",
    "    return [num for num, is_prime in enumerate(primes) if is_prime]\n",
    "\n",
    "limit = int(input(\"Enter the limit: \"))\n",
    "prime_numbers = sieve_of_eratosthenes(limit)\n",
    "print(\"Prime numbers up to\", limit, \"are:\", prime_numbers)\n"
   ]
  },
  {
   "cell_type": "code",
   "execution_count": 58,
   "id": "998016b9-7e03-4d0f-b719-4c8718f95c44",
   "metadata": {},
   "outputs": [
    {
     "name": "stdout",
     "output_type": "stream",
     "text": [
      "[(3, 4, 5), (5, 12, 13), (6, 8, 10)]\n"
     ]
    }
   ],
   "source": [
    "#32. Create a program that generates a list of all Pythagorean triplets up to a specified limit using list comprehension.\n",
    "def pythagorean_triplets(n):\n",
    "    return[(a,b,c) for a in range(1,n) for b in range(a,n) for c in range(b,n) if a**2 +b**2 == c**2]\n",
    "\n",
    "n = int(n)\n",
    "print(pythagorean_triplets(15))\n"
   ]
  },
  {
   "cell_type": "code",
   "execution_count": 63,
   "id": "51e03483-8466-4cdf-9264-56a42193f07d",
   "metadata": {},
   "outputs": [
    {
     "data": {
      "text/plain": [
       "[(1, 4), (1, 5), (1, 6), (2, 4), (2, 5), (2, 6), (3, 4), (3, 5), (3, 6)]"
      ]
     },
     "execution_count": 63,
     "metadata": {},
     "output_type": "execute_result"
    }
   ],
   "source": [
    "#33. Develop a program that generates a list of all possible combinations of two lists using list comprehension.\n",
    "lst1 =[1,2,3]\n",
    "lst2 =[4,5,6]\n",
    "combination = [(x,y) for x in lst1 for y in lst2 ]\n",
    "combination"
   ]
  },
  {
   "cell_type": "code",
   "execution_count": 80,
   "id": "dd5d3933-a8e1-459b-a966-4058b40f4161",
   "metadata": {},
   "outputs": [
    {
     "name": "stdout",
     "output_type": "stream",
     "text": [
      "Mean: 4\n",
      "Median: 5\n",
      "Mode: 5\n"
     ]
    }
   ],
   "source": [
    "#34. Write a program that calculates the mean, median, and mode of a list of numbers using list comprehension.\n",
    "from collections import Counter\n",
    "numbers =[5, 2, 7, 5, 8, 3, 7, 5, 3, 2, 1, 9, 6, 4, 7]\n",
    "mean = sum(numbers)// len(numbers)\n",
    "\n",
    "# Median\n",
    "sorted_numbers = sorted(numbers)\n",
    "n = len(sorted_numbers)\n",
    "n = len(sorted_numbers)\n",
    "median =(sorted_numbers[n//2]+sorted_numbers[(n-1)//2])/s if n%2 ==0 else sorted_numbers[n//2]\n",
    "\n",
    "#Mode\n",
    "mode = Counter(numbers).most_common(1)[0][0]\n",
    "\n",
    "print(\"Mean:\", mean)\n",
    "print(\"Median:\", median)\n",
    "print(\"Mode:\", mode)\n"
   ]
  },
  {
   "cell_type": "code",
   "execution_count": 4,
   "id": "7dc6c12a-8673-44a5-834f-3a9ba2faeeff",
   "metadata": {},
   "outputs": [
    {
     "name": "stdin",
     "output_type": "stream",
     "text": [
      "Enter the number of rows for Pascal's triangle:  7\n"
     ]
    },
    {
     "name": "stdout",
     "output_type": "stream",
     "text": [
      "          1          \n",
      "         1 1         \n",
      "        1 2 1        \n",
      "       1 3 3 1       \n",
      "      1 4 6 4 1      \n",
      "    1 5 10 10 5 1    \n",
      "   1 6 15 20 15 6 1  \n"
     ]
    }
   ],
   "source": [
    "#35. Create a program that generates Pascal's triangle up to a specified number of rows using list comprehension.\n",
    "def generate_pascals_triangle(num_rows):\n",
    "    if num_rows <= 0:\n",
    "        return []\n",
    "    triangle = [[1]]\n",
    "    for i in range (1,num_rows):\n",
    "        prev_row = triangle[-1]\n",
    "        new_row = [1]+ [prev_row[j]+prev_row[j+1] for j in range(len(prev_row)-1)]+[1]\n",
    "        triangle.append(new_row)\n",
    "        \n",
    "    return triangle\n",
    "\n",
    "def display_pascals_triangle(triangle):\n",
    "    for row in triangle:\n",
    "        print(\" \".join(map(str,row)).center(len(triangle[-1])*3))\n",
    "        \n",
    "num_rows = int(input(\"Enter the number of rows for Pascal's triangle: \"))\n",
    "triangle = generate_pascals_triangle(num_rows)\n",
    "display_pascals_triangle(triangle)\n"
   ]
  },
  {
   "cell_type": "code",
   "execution_count": 33,
   "id": "a0f7b064-f11a-47e3-bda9-d15064365e27",
   "metadata": {},
   "outputs": [
    {
     "name": "stdout",
     "output_type": "stream",
     "text": [
      "[1, 2, 6, 6]\n"
     ]
    }
   ],
   "source": [
    "#36. Develop a program that calculates the sum of the digits of a factorial of numbers from 1 to 5 using list comprehension.\n",
    "def factorial(n):\n",
    "        if n == 0:\n",
    "            return 1\n",
    "        else:\n",
    "            return n* factorial(n-1)\n",
    "\n",
    "\n",
    "def sum_of_digits(num):\n",
    "    return sum(int(digit) for digit in str(num))\n",
    "\n",
    "sum_factorial = [sum_of_digits(factorial(i)) for i in range(1,5)]\n",
    "\n",
    "print(sum_factorial)"
   ]
  },
  {
   "cell_type": "code",
   "execution_count": 20,
   "id": "8fd766cf-f30e-4f00-b06a-2f08562259f9",
   "metadata": {},
   "outputs": [
    {
     "name": "stdin",
     "output_type": "stream",
     "text": [
      "Enter a sentence:  Hyderabad is famous for Biryani and people\n"
     ]
    },
    {
     "name": "stdout",
     "output_type": "stream",
     "text": [
      "Hyderabad\n"
     ]
    }
   ],
   "source": [
    "#37. Write a program that finds the longest word in a sentence using list comprehension.\n",
    "sentence = input(\"Enter a sentence: \")\n",
    "\n",
    "words = sentence.split()\n",
    "\n",
    "longest_word = max(words, key = len)\n",
    "\n",
    "print(longest_word)\n"
   ]
  },
  {
   "cell_type": "code",
   "execution_count": 10,
   "id": "2bbc7fc4-06a1-47ae-b818-3cdab6a07f55",
   "metadata": {},
   "outputs": [
    {
     "name": "stdout",
     "output_type": "stream",
     "text": [
      "['Venkateshwara']\n"
     ]
    }
   ],
   "source": [
    "#38. Create a program that filters a list of strings to include only those with more than three vowels using list comprehension.\n",
    "try:\n",
    "    def count_vowels(word):\n",
    "        vowels = \"aeiouAEIOU\"\n",
    "        return sum(1 for char in word if char in vowels)\n",
    "    \n",
    "    def string_more_than_three_vowels(strings):\n",
    "        return [string for string in strings if count_vowels(string)>3]\n",
    "except Exception as e:\n",
    "    print(e)\n",
    "words = ['Venkateshwara','Sharath','Sandeep','Avinash']\n",
    "filtered_words =string_more_than_three_vowels(words)\n",
    "print(filtered_words)"
   ]
  },
  {
   "cell_type": "code",
   "execution_count": 17,
   "id": "53966baa-0af9-4e49-80e5-271286eb9f67",
   "metadata": {},
   "outputs": [
    {
     "data": {
      "text/plain": [
       "500500"
      ]
     },
     "execution_count": 17,
     "metadata": {},
     "output_type": "execute_result"
    }
   ],
   "source": [
    "#39. Develop a program that calculates the sum of the digits of numbers from 1 to 1000 using list comprehension.\n",
    "sum_of_digits = sum((i) for i in range(1,1001))\n",
    "sum_of_digits"
   ]
  },
  {
   "cell_type": "code",
   "execution_count": 19,
   "id": "4d9e76b2-49b3-4828-9995-9a45dfd635c1",
   "metadata": {},
   "outputs": [
    {
     "name": "stdout",
     "output_type": "stream",
     "text": [
      "[5, 7, 11, 101, 131, 151, 181, 191, 313, 353, 373, 383]\n"
     ]
    }
   ],
   "source": [
    "#40. Write a program that generates a list of prime palindromic numbers using list comprehension.\n",
    "try:\n",
    "    def is_prime(n):\n",
    "        if  n<=1 :\n",
    "            return False\n",
    "        if n<=3 :\n",
    "            return False\n",
    "        if n%2  == 0 or n % 3 ==0:\n",
    "            return False\n",
    "        i =5\n",
    "        while i * i <= n:\n",
    "            if n %i == 0 or n % (i+2) ==0:\n",
    "                return False\n",
    "            i+= 6\n",
    "        return True\n",
    "\n",
    "except Exception as e:\n",
    "    print(e)\n",
    "\n",
    "    def generate_palindromic_prime(limit):\n",
    "        return [num for num in range (2,limit) if is_prime(num) and str(num) == str(num) [::-1] ]\n",
    "\n",
    "\n",
    "\n",
    "print(generate_palindromic_prime(516))"
   ]
  },
  {
   "cell_type": "code",
   "execution_count": null,
   "id": "e433748e-5771-470d-a92b-83603678ddf4",
   "metadata": {},
   "outputs": [],
   "source": []
  }
 ],
 "metadata": {
  "kernelspec": {
   "display_name": "Python 3 (ipykernel)",
   "language": "python",
   "name": "python3"
  },
  "language_info": {
   "codemirror_mode": {
    "name": "ipython",
    "version": 3
   },
   "file_extension": ".py",
   "mimetype": "text/x-python",
   "name": "python",
   "nbconvert_exporter": "python",
   "pygments_lexer": "ipython3",
   "version": "3.10.8"
  }
 },
 "nbformat": 4,
 "nbformat_minor": 5
}
